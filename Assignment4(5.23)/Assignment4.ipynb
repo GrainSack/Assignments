{
  "nbformat": 4,
  "nbformat_minor": 0,
  "metadata": {
    "colab": {
      "provenance": [],
      "gpuType": "T4"
    },
    "kernelspec": {
      "name": "python3",
      "display_name": "Python 3"
    },
    "language_info": {
      "name": "python"
    },
    "accelerator": "GPU",
    "gpuClass": "standard"
  },
  "cells": [
    {
      "cell_type": "markdown",
      "source": [
        "### Settings"
      ],
      "metadata": {
        "id": "rUbnWCqP2DQ4"
      }
    },
    {
      "cell_type": "code",
      "execution_count": null,
      "metadata": {
        "colab": {
          "base_uri": "https://localhost:8080/"
        },
        "id": "Pd0GTkAvKmYc",
        "outputId": "9ae79c8f-e965-4dac-ecdc-195bcf6cd065"
      },
      "outputs": [
        {
          "output_type": "stream",
          "name": "stdout",
          "text": [
            "Mounted at /content/drive\n"
          ]
        }
      ],
      "source": [
        "from google.colab import drive\n",
        "drive.mount('/content/drive') "
      ]
    },
    {
      "cell_type": "code",
      "source": [
        "!pip install Korpora"
      ],
      "metadata": {
        "colab": {
          "base_uri": "https://localhost:8080/"
        },
        "id": "P1d0asNv4bbG",
        "outputId": "e8d2c443-37e8-40e2-9a2c-a3d769965b49"
      },
      "execution_count": null,
      "outputs": [
        {
          "output_type": "stream",
          "name": "stdout",
          "text": [
            "Looking in indexes: https://pypi.org/simple, https://us-python.pkg.dev/colab-wheels/public/simple/\n",
            "Requirement already satisfied: Korpora in /usr/local/lib/python3.10/dist-packages (0.2.0)\n",
            "Requirement already satisfied: dataclasses>=0.6 in /usr/local/lib/python3.10/dist-packages (from Korpora) (0.6)\n",
            "Requirement already satisfied: numpy>=1.18.0 in /usr/local/lib/python3.10/dist-packages (from Korpora) (1.22.4)\n",
            "Requirement already satisfied: tqdm>=4.46.0 in /usr/local/lib/python3.10/dist-packages (from Korpora) (4.65.0)\n",
            "Requirement already satisfied: requests>=2.20.0 in /usr/local/lib/python3.10/dist-packages (from Korpora) (2.27.1)\n",
            "Requirement already satisfied: xlrd>=1.2.0 in /usr/local/lib/python3.10/dist-packages (from Korpora) (2.0.1)\n",
            "Requirement already satisfied: urllib3<1.27,>=1.21.1 in /usr/local/lib/python3.10/dist-packages (from requests>=2.20.0->Korpora) (1.26.15)\n",
            "Requirement already satisfied: certifi>=2017.4.17 in /usr/local/lib/python3.10/dist-packages (from requests>=2.20.0->Korpora) (2022.12.7)\n",
            "Requirement already satisfied: charset-normalizer~=2.0.0 in /usr/local/lib/python3.10/dist-packages (from requests>=2.20.0->Korpora) (2.0.12)\n",
            "Requirement already satisfied: idna<4,>=2.5 in /usr/local/lib/python3.10/dist-packages (from requests>=2.20.0->Korpora) (3.4)\n"
          ]
        }
      ]
    },
    {
      "cell_type": "code",
      "source": [
        "!pip install python-mecab-ko"
      ],
      "metadata": {
        "colab": {
          "base_uri": "https://localhost:8080/"
        },
        "id": "xcr6Vb3-AkJ4",
        "outputId": "6eaf3aa3-0861-4edc-823f-78488f133201"
      },
      "execution_count": null,
      "outputs": [
        {
          "output_type": "stream",
          "name": "stdout",
          "text": [
            "Looking in indexes: https://pypi.org/simple, https://us-python.pkg.dev/colab-wheels/public/simple/\n",
            "Collecting python-mecab-ko\n",
            "  Downloading python_mecab_ko-1.3.3-cp310-cp310-manylinux_2_17_x86_64.manylinux2014_x86_64.whl (573 kB)\n",
            "\u001b[2K     \u001b[90m━━━━━━━━━━━━━━━━━━━━━━━━━━━━━━━━━━━━━━\u001b[0m \u001b[32m573.9/573.9 kB\u001b[0m \u001b[31m37.4 MB/s\u001b[0m eta \u001b[36m0:00:00\u001b[0m\n",
            "\u001b[?25hCollecting python-mecab-ko-dic (from python-mecab-ko)\n",
            "  Downloading python_mecab_ko_dic-2.1.1.post2-py3-none-any.whl (34.5 MB)\n",
            "\u001b[2K     \u001b[90m━━━━━━━━━━━━━━━━━━━━━━━━━━━━━━━━━━━━━━━━\u001b[0m \u001b[32m34.5/34.5 MB\u001b[0m \u001b[31m14.8 MB/s\u001b[0m eta \u001b[36m0:00:00\u001b[0m\n",
            "\u001b[?25hInstalling collected packages: python-mecab-ko-dic, python-mecab-ko\n",
            "Successfully installed python-mecab-ko-1.3.3 python-mecab-ko-dic-2.1.1.post2\n"
          ]
        }
      ]
    },
    {
      "cell_type": "code",
      "source": [
        "#import package\n",
        "from Korpora import Korpora\n",
        "import pandas as pd\n",
        "import gensim as gn\n",
        "import numpy as np\n",
        "from collections import Counter\n",
        "from mecab import MeCab\n",
        "import nltk\n",
        "import numpy as np\n",
        "import tensorflow as tf\n",
        "import os"
      ],
      "metadata": {
        "id": "ghJQj5Jx2NPe"
      },
      "execution_count": null,
      "outputs": []
    },
    {
      "cell_type": "markdown",
      "source": [
        "### Data Preview"
      ],
      "metadata": {
        "id": "Et-5ku24jB1x"
      }
    },
    {
      "cell_type": "code",
      "source": [
        "corpus = Korpora.load(\"nsmc\")"
      ],
      "metadata": {
        "id": "xXVjfO2gczfm"
      },
      "execution_count": null,
      "outputs": []
    },
    {
      "cell_type": "code",
      "source": [
        "print(corpus.train[0],corpus.train[0].text , corpus.train[0].label)"
      ],
      "metadata": {
        "colab": {
          "base_uri": "https://localhost:8080/"
        },
        "id": "2hbniUv12NSZ",
        "outputId": "0301f7f9-cce3-4258-c824-bdf910968ee4"
      },
      "execution_count": null,
      "outputs": [
        {
          "output_type": "stream",
          "name": "stdout",
          "text": [
            "LabeledSentence(text='아 더빙.. 진짜 짜증나네요 목소리', label=0) 아 더빙.. 진짜 짜증나네요 목소리 0\n"
          ]
        }
      ]
    },
    {
      "cell_type": "code",
      "source": [
        "print(corpus.test[0],corpus.test[0].text , corpus.test[0].label)"
      ],
      "metadata": {
        "colab": {
          "base_uri": "https://localhost:8080/"
        },
        "id": "IoGeJRpw2NZt",
        "outputId": "fda06acc-f209-4b71-d259-78605b2bbab2"
      },
      "execution_count": null,
      "outputs": [
        {
          "output_type": "stream",
          "name": "stdout",
          "text": [
            "LabeledSentence(text='굳 ㅋ', label=1) 굳 ㅋ 1\n"
          ]
        }
      ]
    },
    {
      "cell_type": "code",
      "source": [
        "print(corpus.train, corpus.test) "
      ],
      "metadata": {
        "colab": {
          "base_uri": "https://localhost:8080/"
        },
        "id": "8ryYiC262NdL",
        "outputId": "682e010c-7351-4d2c-ce36-f8a9de9fd204"
      },
      "execution_count": null,
      "outputs": [
        {
          "output_type": "stream",
          "name": "stdout",
          "text": [
            "NSMC.train: size=150000\n",
            "  - NSMC.train.texts : list[str]\n",
            "  - NSMC.train.labels : list[int]\n",
            " NSMC.test: size=50000\n",
            "  - NSMC.test.texts : list[str]\n",
            "  - NSMC.test.labels : list[int]\n",
            "\n"
          ]
        }
      ]
    },
    {
      "cell_type": "code",
      "source": [
        "df_train = pd.DataFrame(corpus.train)\n",
        "df_test = pd.DataFrame(corpus.test)"
      ],
      "metadata": {
        "id": "xVxRE-j72NgQ"
      },
      "execution_count": null,
      "outputs": []
    },
    {
      "cell_type": "code",
      "source": [
        "df_train.head()"
      ],
      "metadata": {
        "colab": {
          "base_uri": "https://localhost:8080/",
          "height": 206
        },
        "id": "WiODVBV12NjC",
        "outputId": "19e42840-4bf6-4953-9742-d04e8693d1c4"
      },
      "execution_count": null,
      "outputs": [
        {
          "output_type": "execute_result",
          "data": {
            "text/plain": [
              "                                                text  label\n",
              "0                                아 더빙.. 진짜 짜증나네요 목소리      0\n",
              "1                  흠...포스터보고 초딩영화줄....오버연기조차 가볍지 않구나      1\n",
              "2                                  너무재밓었다그래서보는것을추천한다      0\n",
              "3                      교도소 이야기구먼 ..솔직히 재미는 없다..평점 조정      0\n",
              "4  사이몬페그의 익살스런 연기가 돋보였던 영화!스파이더맨에서 늙어보이기만 했던 커스틴 ...      1"
            ],
            "text/html": [
              "\n",
              "  <div id=\"df-4d7b69df-4107-4eab-b32d-e9713acf445c\">\n",
              "    <div class=\"colab-df-container\">\n",
              "      <div>\n",
              "<style scoped>\n",
              "    .dataframe tbody tr th:only-of-type {\n",
              "        vertical-align: middle;\n",
              "    }\n",
              "\n",
              "    .dataframe tbody tr th {\n",
              "        vertical-align: top;\n",
              "    }\n",
              "\n",
              "    .dataframe thead th {\n",
              "        text-align: right;\n",
              "    }\n",
              "</style>\n",
              "<table border=\"1\" class=\"dataframe\">\n",
              "  <thead>\n",
              "    <tr style=\"text-align: right;\">\n",
              "      <th></th>\n",
              "      <th>text</th>\n",
              "      <th>label</th>\n",
              "    </tr>\n",
              "  </thead>\n",
              "  <tbody>\n",
              "    <tr>\n",
              "      <th>0</th>\n",
              "      <td>아 더빙.. 진짜 짜증나네요 목소리</td>\n",
              "      <td>0</td>\n",
              "    </tr>\n",
              "    <tr>\n",
              "      <th>1</th>\n",
              "      <td>흠...포스터보고 초딩영화줄....오버연기조차 가볍지 않구나</td>\n",
              "      <td>1</td>\n",
              "    </tr>\n",
              "    <tr>\n",
              "      <th>2</th>\n",
              "      <td>너무재밓었다그래서보는것을추천한다</td>\n",
              "      <td>0</td>\n",
              "    </tr>\n",
              "    <tr>\n",
              "      <th>3</th>\n",
              "      <td>교도소 이야기구먼 ..솔직히 재미는 없다..평점 조정</td>\n",
              "      <td>0</td>\n",
              "    </tr>\n",
              "    <tr>\n",
              "      <th>4</th>\n",
              "      <td>사이몬페그의 익살스런 연기가 돋보였던 영화!스파이더맨에서 늙어보이기만 했던 커스틴 ...</td>\n",
              "      <td>1</td>\n",
              "    </tr>\n",
              "  </tbody>\n",
              "</table>\n",
              "</div>\n",
              "      <button class=\"colab-df-convert\" onclick=\"convertToInteractive('df-4d7b69df-4107-4eab-b32d-e9713acf445c')\"\n",
              "              title=\"Convert this dataframe to an interactive table.\"\n",
              "              style=\"display:none;\">\n",
              "        \n",
              "  <svg xmlns=\"http://www.w3.org/2000/svg\" height=\"24px\"viewBox=\"0 0 24 24\"\n",
              "       width=\"24px\">\n",
              "    <path d=\"M0 0h24v24H0V0z\" fill=\"none\"/>\n",
              "    <path d=\"M18.56 5.44l.94 2.06.94-2.06 2.06-.94-2.06-.94-.94-2.06-.94 2.06-2.06.94zm-11 1L8.5 8.5l.94-2.06 2.06-.94-2.06-.94L8.5 2.5l-.94 2.06-2.06.94zm10 10l.94 2.06.94-2.06 2.06-.94-2.06-.94-.94-2.06-.94 2.06-2.06.94z\"/><path d=\"M17.41 7.96l-1.37-1.37c-.4-.4-.92-.59-1.43-.59-.52 0-1.04.2-1.43.59L10.3 9.45l-7.72 7.72c-.78.78-.78 2.05 0 2.83L4 21.41c.39.39.9.59 1.41.59.51 0 1.02-.2 1.41-.59l7.78-7.78 2.81-2.81c.8-.78.8-2.07 0-2.86zM5.41 20L4 18.59l7.72-7.72 1.47 1.35L5.41 20z\"/>\n",
              "  </svg>\n",
              "      </button>\n",
              "      \n",
              "  <style>\n",
              "    .colab-df-container {\n",
              "      display:flex;\n",
              "      flex-wrap:wrap;\n",
              "      gap: 12px;\n",
              "    }\n",
              "\n",
              "    .colab-df-convert {\n",
              "      background-color: #E8F0FE;\n",
              "      border: none;\n",
              "      border-radius: 50%;\n",
              "      cursor: pointer;\n",
              "      display: none;\n",
              "      fill: #1967D2;\n",
              "      height: 32px;\n",
              "      padding: 0 0 0 0;\n",
              "      width: 32px;\n",
              "    }\n",
              "\n",
              "    .colab-df-convert:hover {\n",
              "      background-color: #E2EBFA;\n",
              "      box-shadow: 0px 1px 2px rgba(60, 64, 67, 0.3), 0px 1px 3px 1px rgba(60, 64, 67, 0.15);\n",
              "      fill: #174EA6;\n",
              "    }\n",
              "\n",
              "    [theme=dark] .colab-df-convert {\n",
              "      background-color: #3B4455;\n",
              "      fill: #D2E3FC;\n",
              "    }\n",
              "\n",
              "    [theme=dark] .colab-df-convert:hover {\n",
              "      background-color: #434B5C;\n",
              "      box-shadow: 0px 1px 3px 1px rgba(0, 0, 0, 0.15);\n",
              "      filter: drop-shadow(0px 1px 2px rgba(0, 0, 0, 0.3));\n",
              "      fill: #FFFFFF;\n",
              "    }\n",
              "  </style>\n",
              "\n",
              "      <script>\n",
              "        const buttonEl =\n",
              "          document.querySelector('#df-4d7b69df-4107-4eab-b32d-e9713acf445c button.colab-df-convert');\n",
              "        buttonEl.style.display =\n",
              "          google.colab.kernel.accessAllowed ? 'block' : 'none';\n",
              "\n",
              "        async function convertToInteractive(key) {\n",
              "          const element = document.querySelector('#df-4d7b69df-4107-4eab-b32d-e9713acf445c');\n",
              "          const dataTable =\n",
              "            await google.colab.kernel.invokeFunction('convertToInteractive',\n",
              "                                                     [key], {});\n",
              "          if (!dataTable) return;\n",
              "\n",
              "          const docLinkHtml = 'Like what you see? Visit the ' +\n",
              "            '<a target=\"_blank\" href=https://colab.research.google.com/notebooks/data_table.ipynb>data table notebook</a>'\n",
              "            + ' to learn more about interactive tables.';\n",
              "          element.innerHTML = '';\n",
              "          dataTable['output_type'] = 'display_data';\n",
              "          await google.colab.output.renderOutput(dataTable, element);\n",
              "          const docLink = document.createElement('div');\n",
              "          docLink.innerHTML = docLinkHtml;\n",
              "          element.appendChild(docLink);\n",
              "        }\n",
              "      </script>\n",
              "    </div>\n",
              "  </div>\n",
              "  "
            ]
          },
          "metadata": {},
          "execution_count": 20
        }
      ]
    },
    {
      "cell_type": "code",
      "source": [
        "df_train.isnull().sum()"
      ],
      "metadata": {
        "colab": {
          "base_uri": "https://localhost:8080/"
        },
        "id": "VycrdTci2Nlw",
        "outputId": "8519edb2-61da-4d62-9716-f0bc400ef409"
      },
      "execution_count": null,
      "outputs": [
        {
          "output_type": "execute_result",
          "data": {
            "text/plain": [
              "text     0\n",
              "label    0\n",
              "dtype: int64"
            ]
          },
          "metadata": {},
          "execution_count": 21
        }
      ]
    },
    {
      "cell_type": "code",
      "source": [
        "print(df_train['text'].nunique(dropna = False), len(df_train['text'])) "
      ],
      "metadata": {
        "colab": {
          "base_uri": "https://localhost:8080/"
        },
        "id": "3h0Ul-L52Nn8",
        "outputId": "56dc407b-e5f2-4956-d0eb-eb6b1738530b"
      },
      "execution_count": null,
      "outputs": [
        {
          "output_type": "stream",
          "name": "stdout",
          "text": [
            "146183 150000\n"
          ]
        }
      ]
    },
    {
      "cell_type": "code",
      "source": [
        "print(df_test['text'].nunique(dropna = False), len(df_test['text'])) "
      ],
      "metadata": {
        "colab": {
          "base_uri": "https://localhost:8080/"
        },
        "id": "nKJo462o7bU4",
        "outputId": "7b2aefe3-b706-453f-f1ee-791ff067163e"
      },
      "execution_count": null,
      "outputs": [
        {
          "output_type": "stream",
          "name": "stdout",
          "text": [
            "49158 50000\n"
          ]
        }
      ]
    },
    {
      "cell_type": "code",
      "source": [
        "df_train.drop_duplicates('text',inplace = True)\n",
        "df_test.drop_duplicates('text',inplace = True)"
      ],
      "metadata": {
        "id": "5g5fc9VZ2Nq9"
      },
      "execution_count": null,
      "outputs": []
    },
    {
      "cell_type": "code",
      "source": [
        "print(df_train.shape, df_test.shape) "
      ],
      "metadata": {
        "colab": {
          "base_uri": "https://localhost:8080/"
        },
        "id": "NQ3c2CyA2Ntw",
        "outputId": "def35aef-617d-49ac-e3e3-398284bacb5c"
      },
      "execution_count": null,
      "outputs": [
        {
          "output_type": "stream",
          "name": "stdout",
          "text": [
            "(146183, 2) (49158, 2)\n"
          ]
        }
      ]
    },
    {
      "cell_type": "code",
      "source": [
        "stop_words = ['의','가','이','은','들','는','좀','잘','걍','과','도','를','으로','자','에','와','한','하다']\n",
        "\n",
        "def token_generator(data, stop_words = stop_words):\n",
        "  token_list = []\n",
        "  for x in data:\n",
        "    word_tokens = okt.morphs(x)\n",
        "    result = [word for word in word_tokens if not word in stop_words]\n",
        "    for x in result:\n",
        "      if x in token_list:\n",
        "        continue\n",
        "      else:\n",
        "        token_list.append(x)\n",
        "  word_index = {'<PAD>': 0, '<BOS>': 1, '<UNK>': 2}\n",
        "  for (x,y) in enumerate(token_list):\n",
        "    word_index[y] = x+3\n",
        "  return word_index"
      ],
      "metadata": {
        "id": "LmFg6JU6H36Y"
      },
      "execution_count": null,
      "outputs": []
    },
    {
      "cell_type": "code",
      "source": [
        "token_list = token_generator(df_train['text'][0:3])"
      ],
      "metadata": {
        "id": "ciK6lx3jJlFX"
      },
      "execution_count": null,
      "outputs": []
    },
    {
      "cell_type": "code",
      "source": [
        "df_train['text'][0]"
      ],
      "metadata": {
        "colab": {
          "base_uri": "https://localhost:8080/",
          "height": 35
        },
        "id": "YfT6AZBBLBG2",
        "outputId": "92e02849-c308-4f15-dff4-e50293efcb43"
      },
      "execution_count": null,
      "outputs": [
        {
          "output_type": "execute_result",
          "data": {
            "text/plain": [
              "'아 더빙.. 진짜 짜증나네요 목소리'"
            ],
            "application/vnd.google.colaboratory.intrinsic+json": {
              "type": "string"
            }
          },
          "metadata": {},
          "execution_count": 107
        }
      ]
    },
    {
      "cell_type": "markdown",
      "source": [
        "### Encoded and Decoded"
      ],
      "metadata": {
        "id": "uSw6mzwhjNXU"
      }
    },
    {
      "cell_type": "code",
      "source": [
        "# 문장 1개를 활용할 딕셔너리와 함께 주면, 단어 인덱스 리스트로 변환해 주는 함수를 만들어 봅시다.\n",
        "# 단, 모든 문장은 <BOS>로 시작하는 것으로 합니다. \n",
        "def get_encoded_sentence(sentence, word_to_index):\n",
        "    return [word_to_index['<BOS>']]+[word_to_index[word] if word in word_to_index else word_to_index['<UNK>'] for word in sentence.split()]\n",
        "\n",
        "print(get_encoded_sentence('아 더빙.. 진짜 짜증나네요 목소리', token_list))"
      ],
      "metadata": {
        "colab": {
          "base_uri": "https://localhost:8080/"
        },
        "id": "Y757xHs6MoTL",
        "outputId": "9af266ae-2907-44c7-ce79-ed9aee084358"
      },
      "execution_count": null,
      "outputs": [
        {
          "output_type": "stream",
          "name": "stdout",
          "text": [
            "[1, 3, 2, 6, 7, 8]\n"
          ]
        }
      ]
    },
    {
      "cell_type": "code",
      "source": [
        "# 여러 개의 문장 리스트를 한꺼번에 숫자 텐서로 encode해 주는 함수입니다. \n",
        "def get_encoded_sentences(sentences, word_to_index):\n",
        "    return [get_encoded_sentence(sentence, word_to_index) for sentence in sentences]\n",
        "\n",
        "# sentences=['i feel hungry', 'i eat lunch', 'now i feel happy'] 가 아래와 같이 변환됩니다. \n",
        "encoded_sentences = get_encoded_sentences(df_train['text'][0:3], token_list)\n",
        "print(encoded_sentences)"
      ],
      "metadata": {
        "colab": {
          "base_uri": "https://localhost:8080/"
        },
        "id": "a5adYs6qN_WS",
        "outputId": "07f21bed-c046-487f-de34-8f9ce648c861"
      },
      "execution_count": null,
      "outputs": [
        {
          "output_type": "stream",
          "name": "stdout",
          "text": [
            "[[1, 3, 2, 6, 7, 8], [1, 2, 2, 20, 21], [1, 2]]\n"
          ]
        }
      ]
    },
    {
      "cell_type": "code",
      "source": [
        "# 숫자 벡터로 encode된 문장을 원래대로 decode하는 함수입니다. \n",
        "def get_decoded_sentence(encoded_sentence, index_to_word):\n",
        "    index_to_word= dict(map(reversed,index_to_word.items()))\n",
        "    return ' '.join(index_to_word[index] if index in index_to_word else '<UNK>' for index in encoded_sentence[1:])  #[1:]를 통해 <BOS>를 제외\n",
        "\n",
        "print(get_decoded_sentence([1, 3, 2, 6, 7, 8], token_list))"
      ],
      "metadata": {
        "colab": {
          "base_uri": "https://localhost:8080/"
        },
        "id": "EVDvwZGZOe95",
        "outputId": "341a2f56-defb-4701-bb32-08ecf8f0c264"
      },
      "execution_count": null,
      "outputs": [
        {
          "output_type": "stream",
          "name": "stdout",
          "text": [
            "아 <UNK> 진짜 짜증나네요 목소리\n"
          ]
        }
      ]
    },
    {
      "cell_type": "code",
      "source": [
        "# 여러 개의 숫자 벡터로 encode된 문장을 한꺼번에 원래대로 decode하는 함수입니다. \n",
        "def get_decoded_sentences(encoded_sentences, index_to_word):\n",
        "    return [get_decoded_sentence(encoded_sentence, index_to_word) for encoded_sentence in encoded_sentences]\n",
        "\n",
        "# encoded_sentences=[[1, 3, 4, 5], [1, 3, 6, 7], [1, 8, 3, 4, 9]] 가 아래와 같이 변환됩니다.\n",
        "print(get_decoded_sentences(encoded_sentences, token_list))"
      ],
      "metadata": {
        "colab": {
          "base_uri": "https://localhost:8080/"
        },
        "id": "cKmae_LQOyUw",
        "outputId": "51b3340c-6fab-4140-ab1d-0df6f19bb17a"
      },
      "execution_count": null,
      "outputs": [
        {
          "output_type": "stream",
          "name": "stdout",
          "text": [
            "['아 <UNK> 진짜 짜증나네요 목소리', '<UNK> <UNK> 가볍지 않구나', '<UNK>']\n"
          ]
        }
      ]
    },
    {
      "cell_type": "code",
      "source": [
        "encoded_sentences"
      ],
      "metadata": {
        "colab": {
          "base_uri": "https://localhost:8080/"
        },
        "id": "tKidqK8zOz-R",
        "outputId": "c0575135-32b3-4858-aecd-df39cff9589d"
      },
      "execution_count": null,
      "outputs": [
        {
          "output_type": "execute_result",
          "data": {
            "text/plain": [
              "[[1, 3, 2, 6, 7, 8], [1, 2, 2, 20, 21], [1, 2]]"
            ]
          },
          "metadata": {},
          "execution_count": 130
        }
      ]
    },
    {
      "cell_type": "markdown",
      "source": [
        "### Model_Class"
      ],
      "metadata": {
        "id": "J5-MP8SkjQ0y"
      }
    },
    {
      "cell_type": "code",
      "source": [
        "class NLP_basic():\n",
        "  def __init__(self,stopwords ,corpus = 'korea', data = False):\n",
        "    self.corpus = 'korea'\n",
        "    self.data = data\n",
        "    self.stopwords = stopwords\n",
        "\n",
        "  def data_loader(self):\n",
        "    if self.corpus == 'korea':\n",
        "      corpus_kr = Korpora.load(\"nsmc\")\n",
        "      df_train = pd.DataFrame(corpus_kr.train)\n",
        "      df_test = pd.DataFrame(corpus_kr.test)\n",
        "      df_train.drop_duplicates('text',inplace = True)\n",
        "      df_test.drop_duplicates('text',inplace = True)\n",
        "    elif self.data == True:\n",
        "      pass\n",
        "    return pd.DataFrame(df_train['text']),pd.DataFrame(df_train['label']), pd.DataFrame(df_test['text']),pd.DataFrame(df_test['label']) \n",
        "\n",
        "  def token_generator(self, data, stop_words = stop_words):\n",
        "    token_list = []\n",
        "    for x in data:\n",
        "      word_tokens = okt.morphs(x)\n",
        "      result = [word for word in word_tokens if not word in stop_words]\n",
        "      for x in result:\n",
        "        if x in token_list:\n",
        "          continue\n",
        "        else:\n",
        "          token_list.append(x)\n",
        "    word_index = {'<PAD>': 0, '<BOS>': 1, '<UNK>': 2}\n",
        "    for (x,y) in enumerate(token_list):\n",
        "      word_index[y] = x+3\n",
        "    return word_index\n",
        "\n",
        "  def get_encoded_sentence(self, sentence, word_to_index):\n",
        "    return [word_to_index['<BOS>']]+[word_to_index[word] if word in word_to_index else word_to_index['<UNK>'] for word in sentence.split()]\n",
        "\n",
        "  def get_encoded_sentences(self, sentences, word_to_index):\n",
        "    return [get_encoded_sentence(sentence, word_to_index) for sentence in sentences]\n",
        "\n",
        "  def get_decoded_sentence(self, encoded_sentence, index_to_word):\n",
        "    index_to_word= dict(map(reversed,index_to_word.items()))\n",
        "    return ' '.join(index_to_word[index] if index in index_to_word else '<UNK>' for index in encoded_sentence[1:])\n",
        "\n",
        "  def get_decoded_sentences(self, encoded_sentences, index_to_word):\n",
        "    return [get_decoded_sentence(encoded_sentence, index_to_word) for encoded_sentence in encoded_sentences]"
      ],
      "metadata": {
        "id": "miJe6IOdSKiL"
      },
      "execution_count": null,
      "outputs": []
    },
    {
      "cell_type": "code",
      "source": [
        "sample = NLP_basic(stop_words,'korea')"
      ],
      "metadata": {
        "id": "bcKDsIt_UKss"
      },
      "execution_count": null,
      "outputs": []
    },
    {
      "cell_type": "code",
      "source": [
        "train_x, train_y, test_x,test_y = sample.data_loader()"
      ],
      "metadata": {
        "colab": {
          "base_uri": "https://localhost:8080/"
        },
        "id": "-aeNKSblZIY-",
        "outputId": "329534b7-ac20-439a-eee4-22fbef0b45ec"
      },
      "execution_count": null,
      "outputs": [
        {
          "output_type": "stream",
          "name": "stdout",
          "text": [
            "\n",
            "    Korpora 는 다른 분들이 연구 목적으로 공유해주신 말뭉치들을\n",
            "    손쉽게 다운로드, 사용할 수 있는 기능만을 제공합니다.\n",
            "\n",
            "    말뭉치들을 공유해 주신 분들에게 감사드리며, 각 말뭉치 별 설명과 라이센스를 공유 드립니다.\n",
            "    해당 말뭉치에 대해 자세히 알고 싶으신 분은 아래의 description 을 참고,\n",
            "    해당 말뭉치를 연구/상용의 목적으로 이용하실 때에는 아래의 라이센스를 참고해 주시기 바랍니다.\n",
            "\n",
            "    # Description\n",
            "    Author : e9t@github\n",
            "    Repository : https://github.com/e9t/nsmc\n",
            "    References : www.lucypark.kr/docs/2015-pyconkr/#39\n",
            "\n",
            "    Naver sentiment movie corpus v1.0\n",
            "    This is a movie review dataset in the Korean language.\n",
            "    Reviews were scraped from Naver Movies.\n",
            "\n",
            "    The dataset construction is based on the method noted in\n",
            "    [Large movie review dataset][^1] from Maas et al., 2011.\n",
            "\n",
            "    [^1]: http://ai.stanford.edu/~amaas/data/sentiment/\n",
            "\n",
            "    # License\n",
            "    CC0 1.0 Universal (CC0 1.0) Public Domain Dedication\n",
            "    Details in https://creativecommons.org/publicdomain/zero/1.0/\n",
            "\n",
            "[Korpora] Corpus `nsmc` is already installed at /root/Korpora/nsmc/ratings_train.txt\n",
            "[Korpora] Corpus `nsmc` is already installed at /root/Korpora/nsmc/ratings_test.txt\n"
          ]
        }
      ]
    },
    {
      "cell_type": "code",
      "source": [
        "word_index = sample.token_generator(train_x['text'])"
      ],
      "metadata": {
        "id": "CPQDGmWRZa1w"
      },
      "execution_count": null,
      "outputs": []
    },
    {
      "cell_type": "code",
      "source": [
        "word_index"
      ],
      "metadata": {
        "id": "1sqSAAVPyCB_"
      },
      "execution_count": null,
      "outputs": []
    },
    {
      "cell_type": "code",
      "source": [
        "import pickle\n",
        "# save data\n",
        "with open('word_index.pickle','wb') as fw:\n",
        "    pickle.dump(word_index, fw)"
      ],
      "metadata": {
        "id": "KE5KI38YyJAH"
      },
      "execution_count": null,
      "outputs": []
    },
    {
      "cell_type": "markdown",
      "source": [
        "#### Keras embdiing and validation split"
      ],
      "metadata": {
        "id": "jpdN0RV8jV1C"
      }
    },
    {
      "cell_type": "code",
      "source": [
        "vocab_size = len(word_index)  # 위 예시에서 딕셔너리에 포함된 단어 개수는 10\n",
        "word_vector_dim = 4    # 그림과 같이 4차원의 워드 벡터를 가정합니다.\n",
        "\n",
        "embedding = tf.keras.layers.Embedding(input_dim=vocab_size, output_dim=word_vector_dim, mask_zero=True)\n",
        "\n",
        "# tf.keras.preprocessing.sequence.pad_sequences를 통해 word vector를 모두 일정 길이로 맞춰주어야 \n",
        "# embedding 레이어의 input이 될 수 있음에 주의해 주세요. \n",
        "raw_inputs = np.array(sample.get_encoded_sentences(train_x['text'], word_index), dtype=object)\n",
        "raw_inputs = tf.keras.preprocessing.sequence.pad_sequences(raw_inputs,\n",
        "                                                       value=word_index['<PAD>'],\n",
        "                                                       padding='post',\n",
        "                                                       maxlen=5)\n",
        "output = embedding(raw_inputs)\n",
        "print(output)"
      ],
      "metadata": {
        "colab": {
          "base_uri": "https://localhost:8080/"
        },
        "id": "9AYbFD9Zaejg",
        "outputId": "1af9c3aa-b709-4804-d6e1-0814e3068c51"
      },
      "execution_count": null,
      "outputs": [
        {
          "output_type": "stream",
          "name": "stdout",
          "text": [
            "tf.Tensor(\n",
            "[[[-0.04773861 -0.01777637  0.0318606   0.04971198]\n",
            "  [ 0.0391568   0.01938058 -0.01124437 -0.04702912]\n",
            "  [ 0.00704131 -0.01773703 -0.04671691  0.0391531 ]\n",
            "  [ 0.03510592 -0.04320742 -0.02118049 -0.00255209]\n",
            "  [-0.04326541 -0.01897737  0.04866428  0.00235172]]\n",
            "\n",
            " [[-0.02202872  0.04260578  0.00553539 -0.00933695]\n",
            "  [ 0.0391568   0.01938058 -0.01124437 -0.04702912]\n",
            "  [ 0.0391568   0.01938058 -0.01124437 -0.04702912]\n",
            "  [ 0.00919538  0.04797435  0.00017829  0.03703303]\n",
            "  [-0.02827123  0.02305498 -0.00133778  0.00092499]]\n",
            "\n",
            " [[-0.02202872  0.04260578  0.00553539 -0.00933695]\n",
            "  [ 0.0391568   0.01938058 -0.01124437 -0.04702912]\n",
            "  [-0.04131794 -0.00860566 -0.01768625 -0.01622235]\n",
            "  [-0.04131794 -0.00860566 -0.01768625 -0.01622235]\n",
            "  [-0.04131794 -0.00860566 -0.01768625 -0.01622235]]\n",
            "\n",
            " ...\n",
            "\n",
            " [[ 0.0391568   0.01938058 -0.01124437 -0.04702912]\n",
            "  [ 0.0391568   0.01938058 -0.01124437 -0.04702912]\n",
            "  [-0.04376893  0.04123378 -0.01971902 -0.01853857]\n",
            "  [ 0.0391568   0.01938058 -0.01124437 -0.04702912]\n",
            "  [ 0.0391568   0.01938058 -0.01124437 -0.04702912]]\n",
            "\n",
            " [[ 0.0391568   0.01938058 -0.01124437 -0.04702912]\n",
            "  [ 0.0391568   0.01938058 -0.01124437 -0.04702912]\n",
            "  [ 0.00128173  0.03315837 -0.00876319  0.04014459]\n",
            "  [ 0.0391568   0.01938058 -0.01124437 -0.04702912]\n",
            "  [ 0.00836563  0.04263658 -0.03908408  0.0388623 ]]\n",
            "\n",
            " [[ 0.0391568   0.01938058 -0.01124437 -0.04702912]\n",
            "  [ 0.0391568   0.01938058 -0.01124437 -0.04702912]\n",
            "  [ 0.0391568   0.01938058 -0.01124437 -0.04702912]\n",
            "  [ 0.03914538 -0.02428891 -0.04986215  0.03927102]\n",
            "  [-0.02583317  0.00677886 -0.04437956 -0.0187681 ]]], shape=(146183, 5, 4), dtype=float32)\n"
          ]
        }
      ]
    },
    {
      "cell_type": "code",
      "source": [
        "print(sample.get_encoded_sentence(train_x['text'][1500], word_index))"
      ],
      "metadata": {
        "colab": {
          "base_uri": "https://localhost:8080/"
        },
        "id": "IoCAQsFraxpm",
        "outputId": "7b683033-aa7e-4c6a-f726-b3e0b8154f7a"
      },
      "execution_count": null,
      "outputs": [
        {
          "output_type": "stream",
          "name": "stdout",
          "text": [
            "[1, 2, 178, 3702, 2, 44, 333, 2, 6351, 2]\n"
          ]
        }
      ]
    },
    {
      "cell_type": "code",
      "source": [
        "print(sample.get_decoded_sentence([1, 2, 178, 3702, 2, 44, 333, 2, 6351, 2], word_index))"
      ],
      "metadata": {
        "colab": {
          "base_uri": "https://localhost:8080/"
        },
        "id": "DV5rG1QgfOXa",
        "outputId": "1584ac5b-5253-414e-e983-e9ca2bfb79a1"
      },
      "execution_count": null,
      "outputs": [
        {
          "output_type": "stream",
          "name": "stdout",
          "text": [
            "<UNK> 가장 좋아하는 <UNK> 스파이더맨 완전 <UNK> 영원했으면 <UNK>\n"
          ]
        }
      ]
    },
    {
      "cell_type": "code",
      "source": [
        "total_data_text = list(train_x['text']) + list(test_x['text'])\n",
        "# 텍스트데이터 문장길이의 리스트를 생성한 후\n",
        "num_tokens = [len(tokens) for tokens in total_data_text]\n",
        "num_tokens = np.array(num_tokens)\n",
        "# 문장길이의 평균값, 최대값, 표준편차를 계산해 본다. \n",
        "print('문장길이 평균 : ', np.mean(num_tokens))\n",
        "print('문장길이 최대 : ', np.max(num_tokens))\n",
        "print('문장길이 표준편차 : ', np.std(num_tokens))\n",
        "\n",
        "# 예를들어, 최대 길이를 (평균 + 2*표준편차)로 한다면,  \n",
        "max_tokens = np.mean(num_tokens) + 2 * np.std(num_tokens)\n",
        "maxlen = int(max_tokens)\n",
        "print('pad_sequences maxlen : ', maxlen)\n",
        "print(f'전체 문장의 {np.sum(num_tokens < max_tokens) / len(num_tokens)}%가 maxlen 설정값 이내에 포함됩니다. ')"
      ],
      "metadata": {
        "colab": {
          "base_uri": "https://localhost:8080/"
        },
        "id": "pR8P0ajrf6rU",
        "outputId": "d353fb16-8ece-46fd-e468-eb982cec06b8"
      },
      "execution_count": null,
      "outputs": [
        {
          "output_type": "stream",
          "name": "stdout",
          "text": [
            "문장길이 평균 :  35.983541601609495\n",
            "문장길이 최대 :  158\n",
            "문장길이 표준편차 :  29.572497312283254\n",
            "pad_sequences maxlen :  95\n",
            "전체 문장의 0.9337927009690746%가 maxlen 설정값 이내에 포함됩니다. \n"
          ]
        }
      ]
    },
    {
      "cell_type": "code",
      "source": [
        "train_x_input = sample.get_encoded_sentences(train_x['text'], word_index)"
      ],
      "metadata": {
        "id": "6VHOlYakgLYg"
      },
      "execution_count": null,
      "outputs": []
    },
    {
      "cell_type": "code",
      "source": [
        "x_train = tf.keras.preprocessing.sequence.pad_sequences(train_x_input,\n",
        "                                                       value=word_index[\"<PAD>\"],\n",
        "                                                       padding='pre', # 혹은 'pre'\n",
        "                                                       maxlen=maxlen)"
      ],
      "metadata": {
        "id": "RS6I2ruSfREA"
      },
      "execution_count": null,
      "outputs": []
    },
    {
      "cell_type": "code",
      "source": [
        "# validation set 10000건 분리\n",
        "x_val = x_train[:10000]   \n",
        "y_val = train_y[:10000]\n",
        "\n",
        "# validation set을 제외한 나머지 15000건\n",
        "partial_x_train = x_train[10000:]  \n",
        "partial_y_train = train_y[10000:]\n",
        "\n",
        "print(partial_x_train.shape)\n",
        "print(partial_y_train.shape)"
      ],
      "metadata": {
        "colab": {
          "base_uri": "https://localhost:8080/"
        },
        "id": "zhUs4Bueg32F",
        "outputId": "02a9ffe0-00df-4bc1-c077-573ef482284b"
      },
      "execution_count": null,
      "outputs": [
        {
          "output_type": "stream",
          "name": "stdout",
          "text": [
            "(136183, 95)\n",
            "(136183, 1)\n"
          ]
        }
      ]
    },
    {
      "cell_type": "code",
      "source": [
        "x_test = sample.get_encoded_sentences(test_x['text'], word_index)\n",
        "x_test = tf.keras.preprocessing.sequence.pad_sequences(x_test,\n",
        "                                                       value=word_index[\"<PAD>\"],\n",
        "                                                       padding='pre', # 혹은 'pre'\n",
        "                                                       maxlen=maxlen)\n",
        "y_test = test_y['label']"
      ],
      "metadata": {
        "id": "KdHgQFnqhtR_"
      },
      "execution_count": null,
      "outputs": []
    },
    {
      "cell_type": "markdown",
      "source": [
        "### Various Model"
      ],
      "metadata": {
        "id": "yb1msp9BjknO"
      }
    },
    {
      "cell_type": "markdown",
      "source": [
        "#### Lstm"
      ],
      "metadata": {
        "id": "xjtIuBobkKst"
      }
    },
    {
      "cell_type": "code",
      "source": [
        "vocab_size = len(word_index)    # 어휘 사전의 크기입니다(10,000개의 단어)\n",
        "word_vector_dim = 16  # 워드 벡터의 차원 수 (변경 가능한 하이퍼파라미터)\n",
        "\n",
        "# model 설계 - 딥러닝 모델 코드를 직접 작성해 주세요.\n",
        "model = tf.keras.Sequential()\n",
        "model.add(tf.keras.layers.Embedding(vocab_size, word_vector_dim, input_shape=(None,)))\n",
        "model.add(tf.keras.layers.LSTM(8))   # 가장 널리 쓰이는 RNN인 LSTM 레이어를 사용하였습니다. 이때 LSTM state 벡터의 차원수는 8로 하였습니다. (변경 가능)\n",
        "model.add(tf.keras.layers.Dense(8, activation='relu'))\n",
        "model.add(tf.keras.layers.Dense(1, activation='sigmoid'))  # 최종 출력은 긍정/부정을 나타내는 1dim 입니다.\n",
        "\n",
        "model.summary()"
      ],
      "metadata": {
        "colab": {
          "base_uri": "https://localhost:8080/"
        },
        "id": "R3tUFHP5gq0S",
        "outputId": "bba23782-f44e-434d-8b91-47bcd10c6bbd"
      },
      "execution_count": null,
      "outputs": [
        {
          "output_type": "stream",
          "name": "stdout",
          "text": [
            "Model: \"sequential\"\n",
            "_________________________________________________________________\n",
            " Layer (type)                Output Shape              Param #   \n",
            "=================================================================\n",
            " embedding_1 (Embedding)     (None, None, 16)          1674608   \n",
            "                                                                 \n",
            " lstm (LSTM)                 (None, 8)                 800       \n",
            "                                                                 \n",
            " dense (Dense)               (None, 8)                 72        \n",
            "                                                                 \n",
            " dense_1 (Dense)             (None, 1)                 9         \n",
            "                                                                 \n",
            "=================================================================\n",
            "Total params: 1,675,489\n",
            "Trainable params: 1,675,489\n",
            "Non-trainable params: 0\n",
            "_________________________________________________________________\n"
          ]
        }
      ]
    },
    {
      "cell_type": "code",
      "source": [
        "model.compile(optimizer='adam',\n",
        "              loss='binary_crossentropy',\n",
        "              metrics=['accuracy'])\n",
        "              \n",
        "epochs=20  # 몇 epoch를 훈련하면 좋을지 결과를 보면서 바꾸어 봅시다. \n",
        "\n",
        "history = model.fit(partial_x_train,\n",
        "                    partial_y_train,\n",
        "                    epochs=epochs,\n",
        "                    batch_size=512,\n",
        "                    validation_data=(x_val, y_val),\n",
        "                    verbose=1)"
      ],
      "metadata": {
        "colab": {
          "base_uri": "https://localhost:8080/"
        },
        "id": "8zPRFE5WhGKX",
        "outputId": "f0e18655-0863-4076-fc32-41789f953f6f"
      },
      "execution_count": null,
      "outputs": [
        {
          "output_type": "stream",
          "name": "stdout",
          "text": [
            "Epoch 1/20\n",
            "266/266 [==============================] - 50s 152ms/step - loss: 0.6104 - accuracy: 0.6575 - val_loss: 0.5277 - val_accuracy: 0.7104\n",
            "Epoch 2/20\n",
            "266/266 [==============================] - 10s 39ms/step - loss: 0.4780 - accuracy: 0.7523 - val_loss: 0.5147 - val_accuracy: 0.7262\n",
            "Epoch 3/20\n",
            "266/266 [==============================] - 6s 24ms/step - loss: 0.4262 - accuracy: 0.7813 - val_loss: 0.5224 - val_accuracy: 0.7245\n",
            "Epoch 4/20\n",
            "266/266 [==============================] - 4s 17ms/step - loss: 0.3938 - accuracy: 0.7968 - val_loss: 0.5454 - val_accuracy: 0.7252\n",
            "Epoch 5/20\n",
            "266/266 [==============================] - 5s 18ms/step - loss: 0.3727 - accuracy: 0.8055 - val_loss: 0.5602 - val_accuracy: 0.7188\n",
            "Epoch 6/20\n",
            "266/266 [==============================] - 6s 21ms/step - loss: 0.3592 - accuracy: 0.8119 - val_loss: 0.5797 - val_accuracy: 0.7154\n",
            "Epoch 7/20\n",
            "266/266 [==============================] - 4s 13ms/step - loss: 0.3504 - accuracy: 0.8145 - val_loss: 0.5915 - val_accuracy: 0.7105\n",
            "Epoch 8/20\n",
            "266/266 [==============================] - 5s 19ms/step - loss: 0.3440 - accuracy: 0.8158 - val_loss: 0.6020 - val_accuracy: 0.7202\n",
            "Epoch 9/20\n",
            "266/266 [==============================] - 3s 10ms/step - loss: 0.3381 - accuracy: 0.8191 - val_loss: 0.6129 - val_accuracy: 0.7204\n",
            "Epoch 10/20\n",
            "266/266 [==============================] - 3s 10ms/step - loss: 0.3324 - accuracy: 0.8215 - val_loss: 0.6323 - val_accuracy: 0.7173\n",
            "Epoch 11/20\n",
            "266/266 [==============================] - 3s 13ms/step - loss: 0.3262 - accuracy: 0.8244 - val_loss: 0.6340 - val_accuracy: 0.7145\n",
            "Epoch 12/20\n",
            "266/266 [==============================] - 3s 11ms/step - loss: 0.3215 - accuracy: 0.8268 - val_loss: 0.6632 - val_accuracy: 0.7128\n",
            "Epoch 13/20\n",
            "266/266 [==============================] - 2s 9ms/step - loss: 0.3166 - accuracy: 0.8291 - val_loss: 0.6678 - val_accuracy: 0.7128\n",
            "Epoch 14/20\n",
            "266/266 [==============================] - 4s 13ms/step - loss: 0.3118 - accuracy: 0.8312 - val_loss: 0.6813 - val_accuracy: 0.7010\n",
            "Epoch 15/20\n",
            "266/266 [==============================] - 5s 17ms/step - loss: 0.3077 - accuracy: 0.8323 - val_loss: 0.7002 - val_accuracy: 0.7108\n",
            "Epoch 16/20\n",
            "266/266 [==============================] - 4s 16ms/step - loss: 0.3033 - accuracy: 0.8360 - val_loss: 0.7165 - val_accuracy: 0.7065\n",
            "Epoch 17/20\n",
            "266/266 [==============================] - 3s 12ms/step - loss: 0.3008 - accuracy: 0.8355 - val_loss: 0.7191 - val_accuracy: 0.7090\n",
            "Epoch 18/20\n",
            "266/266 [==============================] - 3s 11ms/step - loss: 0.2968 - accuracy: 0.8385 - val_loss: 0.7379 - val_accuracy: 0.7111\n",
            "Epoch 19/20\n",
            "266/266 [==============================] - 3s 11ms/step - loss: 0.2940 - accuracy: 0.8390 - val_loss: 0.7551 - val_accuracy: 0.7102\n",
            "Epoch 20/20\n",
            "266/266 [==============================] - 2s 9ms/step - loss: 0.2911 - accuracy: 0.8409 - val_loss: 0.7746 - val_accuracy: 0.6982\n"
          ]
        }
      ]
    },
    {
      "cell_type": "code",
      "source": [
        "results = model.evaluate(x_test,  y_test, verbose=2)\n",
        "\n",
        "print(results)"
      ],
      "metadata": {
        "colab": {
          "base_uri": "https://localhost:8080/"
        },
        "id": "lmx66YTnhMhi",
        "outputId": "ef1ca089-757c-475a-c37c-c601d0a2a344"
      },
      "execution_count": null,
      "outputs": [
        {
          "output_type": "stream",
          "name": "stdout",
          "text": [
            "1537/1537 - 5s - loss: 0.7906 - accuracy: 0.6947 - 5s/epoch - 4ms/step\n",
            "[0.7906045913696289, 0.6947190761566162]\n"
          ]
        }
      ]
    },
    {
      "cell_type": "code",
      "source": [
        "history_dict = history.history\n",
        "print(history_dict.keys()) # epoch에 따른 그래프를 그려볼 수 있는 항목들"
      ],
      "metadata": {
        "colab": {
          "base_uri": "https://localhost:8080/"
        },
        "id": "KAGWd1VkhUeA",
        "outputId": "0e6e4a3c-bafe-4041-9b4c-fcaa0249049b"
      },
      "execution_count": null,
      "outputs": [
        {
          "output_type": "stream",
          "name": "stdout",
          "text": [
            "dict_keys(['loss', 'accuracy', 'val_loss', 'val_accuracy'])\n"
          ]
        }
      ]
    },
    {
      "cell_type": "code",
      "source": [
        "import matplotlib.pyplot as plt\n",
        "\n",
        "acc = history_dict['accuracy']\n",
        "val_acc = history_dict['val_accuracy']\n",
        "loss = history_dict['loss']\n",
        "val_loss = history_dict['val_loss']\n",
        "\n",
        "epochs = range(1, len(acc) + 1)\n",
        "\n",
        "# \"bo\"는 \"파란색 점\"입니다\n",
        "plt.plot(epochs, loss, 'bo', label='Training loss')\n",
        "# b는 \"파란 실선\"입니다\n",
        "plt.plot(epochs, val_loss, 'b', label='Validation loss')\n",
        "plt.title('Training and validation loss')\n",
        "plt.xlabel('Epochs')\n",
        "plt.ylabel('Loss')\n",
        "plt.legend()\n",
        "\n",
        "plt.show()"
      ],
      "metadata": {
        "colab": {
          "base_uri": "https://localhost:8080/",
          "height": 472
        },
        "id": "LMte-nXIhVwJ",
        "outputId": "ab299675-e8fc-449c-e2ee-e212e12683cc"
      },
      "execution_count": null,
      "outputs": [
        {
          "output_type": "display_data",
          "data": {
            "text/plain": [
              "<Figure size 640x480 with 1 Axes>"
            ],
            "image/png": "[encoded data removed]"
          },
          "metadata": {}
        }
      ]
    },
    {
      "cell_type": "code",
      "source": [
        "plt.clf()   # 그림을 초기화합니다\n",
        "\n",
        "plt.plot(epochs, acc, 'bo', label='Training acc')\n",
        "plt.plot(epochs, val_acc, 'b', label='Validation acc')\n",
        "plt.title('Training and validation accuracy')\n",
        "plt.xlabel('Epochs')\n",
        "plt.ylabel('Accuracy')\n",
        "plt.legend()\n",
        "\n",
        "plt.show()"
      ],
      "metadata": {
        "colab": {
          "base_uri": "https://localhost:8080/",
          "height": 472
        },
        "id": "snczMg9mhZIv",
        "outputId": "a5f9b96e-f77b-4b31-af36-5fb026a7e189"
      },
      "execution_count": null,
      "outputs": [
        {
          "output_type": "display_data",
          "data": {
            "text/plain": [
              "<Figure size 640x480 with 1 Axes>"
            ],
            "image/png": "[encoded data removed]"
          },
          "metadata": {}
        }
      ]
    },
    {
      "cell_type": "markdown",
      "source": [
        "#### 1D-conv"
      ],
      "metadata": {
        "id": "N5PmlHF7jw9n"
      }
    },
    {
      "cell_type": "code",
      "source": [
        "vocab_size = len(word_index)  # 어휘 사전의 크기입니다(10개의 단어)\n",
        "word_vector_dim = 4   # 단어 하나를 표현하는 임베딩 벡터의 차원 수입니다. \n",
        "\n",
        "model2 = tf.keras.Sequential()\n",
        "model2.add(tf.keras.layers.Embedding(vocab_size, word_vector_dim, input_shape=(None,)))\n",
        "model2.add(tf.keras.layers.Conv1D(16, 7, activation='relu'))\n",
        "model2.add(tf.keras.layers.MaxPooling1D(5))\n",
        "model2.add(tf.keras.layers.Conv1D(16, 7, activation='relu'))\n",
        "model2.add(tf.keras.layers.GlobalMaxPooling1D())\n",
        "model2.add(tf.keras.layers.Dense(8, activation='relu'))\n",
        "model2.add(tf.keras.layers.Dense(1, activation='sigmoid'))  # 최종 출력은 긍정/부정을 나타내는 1dim 입니다.\n",
        "\n",
        "model2.summary()"
      ],
      "metadata": {
        "colab": {
          "base_uri": "https://localhost:8080/"
        },
        "id": "ol57a44thaqE",
        "outputId": "431abf42-883e-4dcf-c0c7-24613a5b12a2"
      },
      "execution_count": null,
      "outputs": [
        {
          "output_type": "stream",
          "name": "stdout",
          "text": [
            "Model: \"sequential_5\"\n",
            "_________________________________________________________________\n",
            " Layer (type)                Output Shape              Param #   \n",
            "=================================================================\n",
            " embedding_6 (Embedding)     (None, None, 4)           418652    \n",
            "                                                                 \n",
            " conv1d_6 (Conv1D)           (None, None, 16)          464       \n",
            "                                                                 \n",
            " max_pooling1d_2 (MaxPooling  (None, None, 16)         0         \n",
            " 1D)                                                             \n",
            "                                                                 \n",
            " conv1d_7 (Conv1D)           (None, None, 16)          1808      \n",
            "                                                                 \n",
            " global_max_pooling1d_2 (Glo  (None, 16)               0         \n",
            " balMaxPooling1D)                                                \n",
            "                                                                 \n",
            " dense_6 (Dense)             (None, 8)                 136       \n",
            "                                                                 \n",
            " dense_7 (Dense)             (None, 1)                 9         \n",
            "                                                                 \n",
            "=================================================================\n",
            "Total params: 421,069\n",
            "Trainable params: 421,069\n",
            "Non-trainable params: 0\n",
            "_________________________________________________________________\n"
          ]
        }
      ]
    },
    {
      "cell_type": "code",
      "source": [
        "model2.compile(optimizer='adam',\n",
        "              loss='binary_crossentropy',\n",
        "              metrics=['accuracy'])\n",
        "              \n",
        "epochs=20  # 몇 epoch를 훈련하면 좋을지 결과를 보면서 바꾸어 봅시다. \n",
        "\n",
        "history = model2.fit(partial_x_train,\n",
        "                    partial_y_train,\n",
        "                    epochs=epochs,\n",
        "                    batch_size=512,\n",
        "                    validation_data=(x_val, y_val),\n",
        "                    verbose=1)"
      ],
      "metadata": {
        "colab": {
          "base_uri": "https://localhost:8080/"
        },
        "id": "r3_K5PI5kkof",
        "outputId": "3adc107b-143c-4ce3-c060-59149947923c"
      },
      "execution_count": null,
      "outputs": [
        {
          "output_type": "stream",
          "name": "stdout",
          "text": [
            "Epoch 1/20\n",
            "266/266 [==============================] - 36s 127ms/step - loss: 0.6827 - accuracy: 0.5361 - val_loss: 0.6462 - val_accuracy: 0.5909\n",
            "Epoch 2/20\n",
            "266/266 [==============================] - 9s 34ms/step - loss: 0.6132 - accuracy: 0.6200 - val_loss: 0.6256 - val_accuracy: 0.6000\n",
            "Epoch 3/20\n",
            "266/266 [==============================] - 7s 26ms/step - loss: 0.5723 - accuracy: 0.6472 - val_loss: 0.6326 - val_accuracy: 0.6061\n",
            "Epoch 4/20\n",
            "266/266 [==============================] - 4s 17ms/step - loss: 0.5449 - accuracy: 0.6629 - val_loss: 0.6470 - val_accuracy: 0.6076\n",
            "Epoch 5/20\n",
            "266/266 [==============================] - 5s 18ms/step - loss: 0.5266 - accuracy: 0.6719 - val_loss: 0.6666 - val_accuracy: 0.6023\n",
            "Epoch 6/20\n",
            "266/266 [==============================] - 4s 13ms/step - loss: 0.5148 - accuracy: 0.6763 - val_loss: 0.6840 - val_accuracy: 0.5906\n",
            "Epoch 7/20\n",
            "266/266 [==============================] - 3s 11ms/step - loss: 0.5062 - accuracy: 0.6797 - val_loss: 0.7001 - val_accuracy: 0.5989\n",
            "Epoch 8/20\n",
            "266/266 [==============================] - 3s 11ms/step - loss: 0.4998 - accuracy: 0.6827 - val_loss: 0.7093 - val_accuracy: 0.5990\n",
            "Epoch 9/20\n",
            "266/266 [==============================] - 2s 9ms/step - loss: 0.4946 - accuracy: 0.6845 - val_loss: 0.7231 - val_accuracy: 0.5975\n",
            "Epoch 10/20\n",
            "266/266 [==============================] - 3s 12ms/step - loss: 0.4899 - accuracy: 0.6861 - val_loss: 0.7403 - val_accuracy: 0.5968\n",
            "Epoch 11/20\n",
            "266/266 [==============================] - 3s 10ms/step - loss: 0.4861 - accuracy: 0.6874 - val_loss: 0.7551 - val_accuracy: 0.5954\n",
            "Epoch 12/20\n",
            "266/266 [==============================] - 2s 9ms/step - loss: 0.4822 - accuracy: 0.6902 - val_loss: 0.7670 - val_accuracy: 0.5933\n",
            "Epoch 13/20\n",
            "266/266 [==============================] - 2s 6ms/step - loss: 0.4783 - accuracy: 0.6896 - val_loss: 0.7722 - val_accuracy: 0.5975\n",
            "Epoch 14/20\n",
            "266/266 [==============================] - 2s 7ms/step - loss: 0.4755 - accuracy: 0.6928 - val_loss: 0.7895 - val_accuracy: 0.5865\n",
            "Epoch 15/20\n",
            "266/266 [==============================] - 2s 6ms/step - loss: 0.4719 - accuracy: 0.6933 - val_loss: 0.8028 - val_accuracy: 0.5931\n",
            "Epoch 16/20\n",
            "266/266 [==============================] - 3s 11ms/step - loss: 0.4687 - accuracy: 0.6959 - val_loss: 0.8167 - val_accuracy: 0.5878\n",
            "Epoch 17/20\n",
            "266/266 [==============================] - 2s 8ms/step - loss: 0.4661 - accuracy: 0.6965 - val_loss: 0.8322 - val_accuracy: 0.5952\n",
            "Epoch 18/20\n",
            "266/266 [==============================] - 2s 8ms/step - loss: 0.4635 - accuracy: 0.6995 - val_loss: 0.8512 - val_accuracy: 0.5946\n",
            "Epoch 19/20\n",
            "266/266 [==============================] - 2s 9ms/step - loss: 0.4611 - accuracy: 0.6997 - val_loss: 0.8583 - val_accuracy: 0.5911\n",
            "Epoch 20/20\n",
            "266/266 [==============================] - 2s 9ms/step - loss: 0.4591 - accuracy: 0.6990 - val_loss: 0.8791 - val_accuracy: 0.5849\n"
          ]
        }
      ]
    },
    {
      "cell_type": "code",
      "source": [
        "results2 = model2.evaluate(x_test,  y_test, verbose=2)\n",
        "\n",
        "print(results)"
      ],
      "metadata": {
        "colab": {
          "base_uri": "https://localhost:8080/"
        },
        "id": "agQDEBpOk9eM",
        "outputId": "95c9f6b9-aa93-4c8b-f3c3-fb12a001515f"
      },
      "execution_count": null,
      "outputs": [
        {
          "output_type": "stream",
          "name": "stdout",
          "text": [
            "1537/1537 - 3s - loss: 0.8778 - accuracy: 0.5923 - 3s/epoch - 2ms/step\n",
            "[0.7906045913696289, 0.6947190761566162]\n"
          ]
        }
      ]
    },
    {
      "cell_type": "code",
      "source": [
        "history_dict = history.history\n",
        "print(history_dict.keys()) # epoch에 따른 그래프를 그려볼 수 있는 항목들"
      ],
      "metadata": {
        "colab": {
          "base_uri": "https://localhost:8080/"
        },
        "id": "JZ2VyLLKlGej",
        "outputId": "411fccd6-b5b2-4b9d-ab3e-af28a9091611"
      },
      "execution_count": null,
      "outputs": [
        {
          "output_type": "stream",
          "name": "stdout",
          "text": [
            "dict_keys(['loss', 'accuracy', 'val_loss', 'val_accuracy'])\n"
          ]
        }
      ]
    },
    {
      "cell_type": "code",
      "source": [
        "import matplotlib.pyplot as plt\n",
        "\n",
        "acc = history_dict['accuracy']\n",
        "val_acc = history_dict['val_accuracy']\n",
        "loss = history_dict['loss']\n",
        "val_loss = history_dict['val_loss']\n",
        "\n",
        "epochs = range(1, len(acc) + 1)\n",
        "\n",
        "# \"bo\"는 \"파란색 점\"입니다\n",
        "plt.plot(epochs, loss, 'bo', label='Training loss')\n",
        "# b는 \"파란 실선\"입니다\n",
        "plt.plot(epochs, val_loss, 'b', label='Validation loss')\n",
        "plt.title('Training and validation loss')\n",
        "plt.xlabel('Epochs')\n",
        "plt.ylabel('Loss')\n",
        "plt.legend()\n",
        "\n",
        "plt.show()"
      ],
      "metadata": {
        "colab": {
          "base_uri": "https://localhost:8080/",
          "height": 472
        },
        "id": "PzVbxa2YlJtq",
        "outputId": "404e06ca-718f-44cf-de83-bcc8350c1c70"
      },
      "execution_count": null,
      "outputs": [
        {
          "output_type": "display_data",
          "data": {
            "text/plain": [
              "<Figure size 640x480 with 1 Axes>"
            ],
            "image/png": "[encoded data removed]"
          },
          "metadata": {}
        }
      ]
    },
    {
      "cell_type": "code",
      "source": [
        "plt.clf()   # 그림을 초기화합니다\n",
        "\n",
        "plt.plot(epochs, acc, 'bo', label='Training acc')\n",
        "plt.plot(epochs, val_acc, 'b', label='Validation acc')\n",
        "plt.title('Training and validation accuracy')\n",
        "plt.xlabel('Epochs')\n",
        "plt.ylabel('Accuracy')\n",
        "plt.legend()\n",
        "\n",
        "plt.show()"
      ],
      "metadata": {
        "colab": {
          "base_uri": "https://localhost:8080/",
          "height": 472
        },
        "id": "-dasWCYzlLc5",
        "outputId": "09be3afe-094f-48b0-fc5d-ae23d2fcd68d"
      },
      "execution_count": null,
      "outputs": [
        {
          "output_type": "display_data",
          "data": {
            "text/plain": [
              "<Figure size 640x480 with 1 Axes>"
            ],
            "image/png": "[encoded data removed]"
          },
          "metadata": {}
        }
      ]
    },
    {
      "cell_type": "code",
      "source": [
        "embedding_layer = model2.layers[0]\n",
        "weights = embedding_layer.get_weights()[0]\n",
        "print(weights.shape)    # shape: (vocab_size, embedding_dim)"
      ],
      "metadata": {
        "colab": {
          "base_uri": "https://localhost:8080/"
        },
        "id": "Y53qpDtYl71U",
        "outputId": "0dbc9a9c-1024-4e1d-da59-a7063c00d50f"
      },
      "execution_count": null,
      "outputs": [
        {
          "output_type": "stream",
          "name": "stdout",
          "text": [
            "(104663, 4)\n"
          ]
        }
      ]
    },
    {
      "cell_type": "code",
      "source": [
        "# 학습한 Embedding 파라미터를 파일에 써서 저장합니다. \n",
        "word2vec_file_path = '/content/drive/MyDrive/AIFFEL/NLP_weights/word2vec.txt'\n",
        "f = open(word2vec_file_path, 'w')\n",
        "f.write('{} {}\\n'.format(vocab_size-4, word_vector_dim))  # 몇개의 벡터를 얼마 사이즈로 기재할지 타이틀을 씁니다.\n",
        "\n",
        "# 단어 개수(에서 특수문자 4개는 제외하고)만큼의 워드 벡터를 파일에 기록합니다. \n",
        "vectors = model2.get_weights()[0]\n",
        "index_to_word= dict(map(reversed,word_index.items()))\n",
        "for i in range(4,vocab_size):\n",
        "    f.write('{} {}\\n'.format(index_to_word[i], ' '.join(map(str, list(vectors[i, :])))))\n",
        "f.close()"
      ],
      "metadata": {
        "id": "lPfxGWj2l-6y"
      },
      "execution_count": null,
      "outputs": []
    },
    {
      "cell_type": "code",
      "source": [
        "from gensim.models.keyedvectors import Word2VecKeyedVectors\n",
        "\n",
        "word_vectors = Word2VecKeyedVectors.load_word2vec_format(word2vec_file_path, binary=False)\n",
        "vector = word_vectors['짜증나네요']\n",
        "vector"
      ],
      "metadata": {
        "colab": {
          "base_uri": "https://localhost:8080/"
        },
        "id": "oDEzHTjsnlXE",
        "outputId": "40bcaa91-41fd-496b-841a-c2c677e2b288"
      },
      "execution_count": null,
      "outputs": [
        {
          "output_type": "execute_result",
          "data": {
            "text/plain": [
              "array([ 0.19151996,  0.17978083, -0.15521395,  0.10481862], dtype=float32)"
            ]
          },
          "metadata": {},
          "execution_count": 243
        }
      ]
    },
    {
      "cell_type": "code",
      "source": [
        "word_vectors.similar_by_word(\"짜증나네요\")"
      ],
      "metadata": {
        "colab": {
          "base_uri": "https://localhost:8080/"
        },
        "id": "SO0mfRrQnv6W",
        "outputId": "f4d8395d-ba20-4c8e-e1dc-8f589e79049c"
      },
      "execution_count": null,
      "outputs": [
        {
          "output_type": "execute_result",
          "data": {
            "text/plain": [
              "[('재미없는거', 0.9999879598617554),\n",
              " ('라면서', 0.9999186992645264),\n",
              " ('싶지도', 0.999876081943512),\n",
              " ('넘어가야하는데', 0.9998241066932678),\n",
              " ('옹졸함과', 0.9997357726097107),\n",
              " ('하기', 0.9997307658195496),\n",
              " ('누르는데', 0.9997052550315857),\n",
              " ('난잡하긴', 0.9996486902236938),\n",
              " ('써있는데', 0.999631941318512),\n",
              " ('너무하잖아', 0.9996232390403748)]"
            ]
          },
          "metadata": {},
          "execution_count": 242
        }
      ]
    },
    {
      "cell_type": "markdown",
      "source": [
        "# Using Korean Word2vec embedding and using third model\n",
        "# 정확히 이유는 모르겠지만 코랩에서 kr word2vec weight가 안받아져서 다음 step은 아이펠 cloud jupyter를 사용해서 해결하였습니다.\n",
        "\n",
        "# Assignment4(2) 파일에 다음 과정이 있습니다"
      ],
      "metadata": {
        "id": "a09qTrTulsM9"
      }
    }
  ]
}